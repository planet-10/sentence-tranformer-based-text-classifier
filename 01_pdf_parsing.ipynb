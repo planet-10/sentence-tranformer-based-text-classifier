{
 "cells": [
  {
   "cell_type": "markdown",
   "metadata": {},
   "source": [
    "# Parsing of Sustainability Reports in PDF format"
   ]
  },
  {
   "cell_type": "markdown",
   "metadata": {},
   "source": [
    "## Setup"
   ]
  },
  {
   "cell_type": "code",
   "execution_count": 1,
   "metadata": {},
   "outputs": [],
   "source": [
    "import os\n",
    "import json\n",
    "import re\n",
    "\n",
    "\n",
    "REPORT_DIRECTORY = './00_data/reports'\n",
    "REPORTS = os.listdir(REPORT_DIRECTORY)\n",
    "PARSING_RESULTS_DIRECTORY = '00_data/parsing_results'\n",
    "IMAGES = '00_data/parsing_results/pdf_images/'"
   ]
  },
  {
   "cell_type": "markdown",
   "metadata": {},
   "source": [
    "## Parsing with pdfminer.six"
   ]
  },
  {
   "cell_type": "code",
   "execution_count": 2,
   "metadata": {},
   "outputs": [],
   "source": [
    "from pdfminer.high_level import extract_text\n",
    "\n",
    "def cleanse(text):\n",
    "    return re.sub(' +', ' ', text.strip())\n",
    "    \n",
    "def parse_pdf_pdfminer(file):\n",
    "    # Read pdf using pdfminer\n",
    "    text = extract_text(file)\n",
    "\n",
    "    # Paragraphs are delimited by double newlines\n",
    "    paragraphs = {}\n",
    "    paragraph_index = 0\n",
    "\n",
    "    # Add each paragraph with its index to a dict\n",
    "    for paragraph in text.split('\\n\\n'):\n",
    "        paragraph = cleanse(paragraph)\n",
    "        sentences = paragraph.split('.')\n",
    "        if len(sentences) > 0:\n",
    "            sentence_index = 0\n",
    "            for sentence in paragraph.split('.'):\n",
    "                sentence = sentence + '.'\n",
    "                if paragraph_index not in paragraphs:\n",
    "                    paragraphs[paragraph_index] = {}\n",
    "                \n",
    "                paragraphs[paragraph_index][sentence_index] = sentence\n",
    "                sentence_index += 1\n",
    "\n",
    "            paragraph_index += 1\n",
    "\n",
    "    return paragraphs\n",
    "\n"
   ]
  },
  {
   "cell_type": "code",
   "execution_count": 3,
   "metadata": {},
   "outputs": [
    {
     "name": "stdout",
     "output_type": "stream",
     "text": [
      "./00_data/reports/Arbonia_Sustainability_Report_2021.pdf\n",
      "./00_data/reports/Firmenich_KOZQjRz6ornoYorSa601gLSGvA830xU4JD2UzZghMew.pdf\n",
      "./00_data/reports/Nestle_creating-shared-value-sustainability-report-2021-en.pdf\n"
     ]
    }
   ],
   "source": [
    "\n",
    "for file in REPORTS:\n",
    "    print('{}/{}'.format(REPORT_DIRECTORY, file))\n",
    "    parsed_text = parse_pdf_pdfminer('{}/{}'.format(REPORT_DIRECTORY, file), )\n",
    "\n",
    "    with open('{}/{}_{}.json'.format(PARSING_RESULTS_DIRECTORY, 'pdfminer', file[:-4]), 'w') as f:\n",
    "        json.dump(parsed_text, f, indent=4)   "
   ]
  },
  {
   "cell_type": "markdown",
   "metadata": {},
   "source": [
    "## Parsing with OCR"
   ]
  },
  {
   "cell_type": "code",
   "execution_count": 4,
   "metadata": {},
   "outputs": [
    {
     "ename": "ModuleNotFoundError",
     "evalue": "No module named 'pdf2jpg'",
     "output_type": "error",
     "traceback": [
      "\u001b[0;31m---------------------------------------------------------------------------\u001b[0m",
      "\u001b[0;31mModuleNotFoundError\u001b[0m                       Traceback (most recent call last)",
      "Cell \u001b[0;32mIn[4], line 1\u001b[0m\n\u001b[0;32m----> 1\u001b[0m \u001b[39mfrom\u001b[39;00m \u001b[39mpdf2jpg\u001b[39;00m \u001b[39mimport\u001b[39;00m pdf2jpg\n\u001b[1;32m      2\u001b[0m \u001b[39mimport\u001b[39;00m \u001b[39measyocr\u001b[39;00m\n\u001b[1;32m      4\u001b[0m \u001b[39mdef\u001b[39;00m \u001b[39mcleanse\u001b[39m(text):\n",
      "\u001b[0;31mModuleNotFoundError\u001b[0m: No module named 'pdf2jpg'"
     ]
    }
   ],
   "source": [
    "from pdf2jpg import pdf2jpg\n",
    "import easyocr\n",
    "\n",
    "def cleanse(text):\n",
    "    return re.sub(' +', ' ', text)\n",
    "\n",
    "reader = easyocr.Reader(['en'])\n",
    "\n",
    "for file in REPORTS:\n",
    "    print('{}/{}'.format(REPORT_DIRECTORY, file))\n",
    "\n",
    "    result = pdf2jpg.convert_pdf2jpg('{}/{}'.format(REPORT_DIRECTORY, file), IMAGES, dpi=300, pages='ALL')\n",
    "\n",
    "    paragraphs = {}\n",
    "    paragraph_index = 0\n",
    "\n",
    "    for img in os.listdir('{}/{}_dir'.format(IMAGES, file)):\n",
    "        text = reader.readtext('{}/{}_dir/{}'.format(IMAGES, file, img), paragraph=True)\n",
    "        for paragraph in text:\n",
    "            paragraph = cleanse(paragraph[1])\n",
    "            sentence_index = 0\n",
    "            for sentence in paragraph.split('.'):\n",
    "                sentence = sentence + '.'\n",
    "                if paragraph_index not in paragraphs:\n",
    "                    paragraphs[paragraph_index] = {}\n",
    "                \n",
    "                paragraphs[paragraph_index][sentence_index] = sentence\n",
    "                sentence_index += 1\n",
    "\n",
    "            paragraph_index += 1\n",
    "\n",
    "    with open('{}/{}_{}.json'.format(PARSING_RESULTS_DIRECTORY, 'easyocr', file[:-4]), 'w') as f:\n",
    "        json.dump(paragraphs, f, indent=4)\n",
    "    "
   ]
  }
 ],
 "metadata": {
  "kernelspec": {
   "display_name": "nad01-tn6HkNSv",
   "language": "python",
   "name": "python3"
  },
  "language_info": {
   "codemirror_mode": {
    "name": "ipython",
    "version": 3
   },
   "file_extension": ".py",
   "mimetype": "text/x-python",
   "name": "python",
   "nbconvert_exporter": "python",
   "pygments_lexer": "ipython3",
   "version": "3.10.1 (tags/v3.10.1:2cd268a, Dec  6 2021, 19:10:37) [MSC v.1929 64 bit (AMD64)]"
  },
  "orig_nbformat": 4,
  "vscode": {
   "interpreter": {
    "hash": "e9e3e174d94ab2aff3785b41f1d83e17063d40796b50ad31c177a88ddbc68453"
   }
  }
 },
 "nbformat": 4,
 "nbformat_minor": 2
}
