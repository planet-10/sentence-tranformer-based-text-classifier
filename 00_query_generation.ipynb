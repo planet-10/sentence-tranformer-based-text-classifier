{
 "cells": [
  {
   "cell_type": "markdown",
   "metadata": {},
   "source": [
    "# Parsing of Sustainability Reports in PDF format"
   ]
  },
  {
   "attachments": {},
   "cell_type": "markdown",
   "metadata": {},
   "source": [
    "## Step 1\n",
    "\n",
    "For each query sentence containing <placeholder>, query sentences are generated replacing the <placeholder> with the keywords from the list in query_keywords."
   ]
  },
  {
   "cell_type": "code",
   "execution_count": 1,
   "metadata": {},
   "outputs": [],
   "source": [
    "import json\n",
    "\n",
    "QUERIES_WITH_PLACEHOLDER = '00_data/queries/query_sentences_with_placeholder.json'\n",
    "QUERIES_WITH_KEYWORDS = '00_data/queries/query_sentences_with_keywords.json'\n",
    "QUERY_KEYWORDS = '00_data/queries/query_keywords.json'\n",
    "\n",
    "RESULT = \"00_data/queries/query_sentences.json\"\n",
    "\n",
    "PLACEHOLDER = \"<placeholder>\"\n",
    "\n",
    "with open(QUERIES_WITH_PLACEHOLDER) as f:\n",
    "    queries_with_placeholder = json.load(f)\n",
    "\n",
    "with open(QUERY_KEYWORDS) as f:\n",
    "    keywords = json.load(f)[\"Keywords\"]\n",
    "\n",
    "result_queries = {}\n",
    "for topic, value in queries_with_placeholder.items():\n",
    "    sentences = [text for text in value]\n",
    "    result_sentences = []\n",
    "    for keyword in keywords: \n",
    "        for sentence in sentences: \n",
    "            result_sentence = sentence.replace(PLACEHOLDER, keyword) \n",
    "            result_sentences.append(result_sentence)\n",
    "    result_queries[topic] = result_sentences  \n"
   ]
  },
  {
   "attachments": {},
   "cell_type": "markdown",
   "metadata": {},
   "source": [
    "## Step 2\n",
    "\n",
    "The query sentences that do not contain <placeholder> are added to the queries generated in step 1. The result is saved as query_sentences. "
   ]
  },
  {
   "cell_type": "code",
   "execution_count": 2,
   "metadata": {},
   "outputs": [],
   "source": [
    "QUERIES_WITHOUT_PLACEHOLDER = '00_data/queries/query_sentences_without_placeholder.json'\n",
    "\n",
    "with open(QUERIES_WITHOUT_PLACEHOLDER) as f:\n",
    "    queries_without_placeholder = json.load(f)\n",
    "\n",
    "for topic, value in queries_without_placeholder.items():\n",
    "    sentences = [text for text in value]\n",
    "    result_queries[topic].extend(sentences)\n",
    "\n",
    "with open(RESULT, 'w') as f:\n",
    "    json.dump(result_queries, f, indent=4)   "
   ]
  }
 ],
 "metadata": {
  "kernelspec": {
   "display_name": "nad01-tn6HkNSv",
   "language": "python",
   "name": "python3"
  },
  "language_info": {
   "codemirror_mode": {
    "name": "ipython",
    "version": 3
   },
   "file_extension": ".py",
   "mimetype": "text/x-python",
   "name": "python",
   "nbconvert_exporter": "python",
   "pygments_lexer": "ipython3",
   "version": "3.10.1 (tags/v3.10.1:2cd268a, Dec  6 2021, 19:10:37) [MSC v.1929 64 bit (AMD64)]"
  },
  "orig_nbformat": 4,
  "vscode": {
   "interpreter": {
    "hash": "e9e3e174d94ab2aff3785b41f1d83e17063d40796b50ad31c177a88ddbc68453"
   }
  }
 },
 "nbformat": 4,
 "nbformat_minor": 2
}
