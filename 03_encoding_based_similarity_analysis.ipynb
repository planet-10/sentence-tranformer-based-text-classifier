{
 "cells": [
  {
   "cell_type": "code",
   "execution_count": null,
   "metadata": {},
   "outputs": [],
   "source": [
    "import json\n",
    "import scipy\n",
    "import os\n",
    "import random\n",
    "\n",
    "ENCODINGS_DIRECTORY = '00_data/encoding_results'\n",
    "REPORT_ENCODINGS = (file for file in os.listdir(ENCODINGS_DIRECTORY) if (os.path.isfile(os.path.join(ENCODINGS_DIRECTORY, file)) and file.endswith(\".json\")))\n",
    "QUERY_ENCODINGS = '00_data/encoding_results/all-mpnet-base-v2_query_sentences.json'\n",
    "\n",
    "RESULTS_DIRECTORY = '00_data/encoding_based_similarity_analysis_results'\n",
    "\n",
    "PARSING_METHOD = 'pdfminer'\n",
    "\n",
    "THRESHOLD = 0.65\n",
    "SAMPLE = 1\n",
    "         \n",
    "result = {}\n",
    "\n",
    "print(\"Start similarity analysis...\")\n",
    "\n",
    "with open(QUERY_ENCODINGS) as f:\n",
    "    query_encodings = json.load(f)\n",
    "\n",
    "for topic, topic_values in query_encodings.items():\n",
    "    new_vals = random.sample(topic_values, int(len(topic_values)*SAMPLE))\n",
    "    query_encodings[topic] = new_vals\n",
    "\n",
    "for file in REPORT_ENCODINGS:\n",
    "    if file.split('_')[1] == PARSING_METHOD:\n",
    "        company = file.split('_')[2]\n",
    "        \n",
    "        if company not in result:\n",
    "            result[company] = {}\n",
    "            \n",
    "        print(f\"... for {company} report\")\n",
    "            \n",
    "        with open('{}/{}'.format(ENCODINGS_DIRECTORY, file)) as f:\n",
    "            company_report_encodings = json.load(f)\n",
    "            \n",
    "            for topic, topic_values in query_encodings.items():\n",
    "                if topic not in result[company]:\n",
    "                    result[company][topic] = []\n",
    "                    \n",
    "                for topic_value in topic_values:   \n",
    "                    \n",
    "                    for paragraph_key, paragraph_values in company_report_encodings.items():\n",
    "                        for sentence_key, sentence_value in paragraph_values.items():\n",
    "\n",
    "                            distance = scipy.spatial.distance.cdist([topic_value], [sentence_value], \"cosine\")[0]\n",
    "\n",
    "                            score = 1-distance[0]\n",
    "                            if score > THRESHOLD:\n",
    "                                result[company][topic].append((paragraph_key, sentence_key, score))\n",
    "\n",
    "\n",
    "with open('{}/{}_{}_th={}_sample={}.json'.format(RESULTS_DIRECTORY, PARSING_METHOD, 'found_sentences', THRESHOLD, SAMPLE), 'w') as f:\n",
    "    json.dump(result, f, indent=4)\n",
    "\n",
    "print(f\"Done. Results saved in {RESULTS_DIRECTORY}\")\n",
    "    "
   ]
  }
 ],
 "metadata": {
  "kernelspec": {
   "display_name": "sentence-tranformer-based-text-classifier-nWm91RqC",
   "language": "python",
   "name": "python3"
  },
  "language_info": {
   "codemirror_mode": {
    "name": "ipython",
    "version": 3
   },
   "file_extension": ".py",
   "mimetype": "text/x-python",
   "name": "python",
   "nbconvert_exporter": "python",
   "pygments_lexer": "ipython3",
   "version": "3.10.8 (main, Oct 13 2022, 09:48:40) [Clang 14.0.0 (clang-1400.0.29.102)]"
  },
  "vscode": {
   "interpreter": {
    "hash": "8e82d51497d044bae6e664cc29960b706a3eb7ed2e9e21e37f7ef33c95f3f140"
   }
  }
 },
 "nbformat": 4,
 "nbformat_minor": 2
}
