{
 "cells": [
  {
   "cell_type": "code",
   "execution_count": 2,
   "metadata": {},
   "outputs": [
    {
     "name": "stdout",
     "output_type": "stream",
     "text": [
      "Start similarity analysis...\n",
      "... for Arbonia report\n"
     ]
    },
    {
     "ename": "AttributeError",
     "evalue": "module 'scipy' has no attribute 'spatial'",
     "output_type": "error",
     "traceback": [
      "\u001b[0;31m---------------------------------------------------------------------------\u001b[0m",
      "\u001b[0;31mAttributeError\u001b[0m                            Traceback (most recent call last)",
      "Cell \u001b[0;32mIn[2], line 49\u001b[0m\n\u001b[1;32m     46\u001b[0m \u001b[39mfor\u001b[39;00m paragraph_key, paragraph_values \u001b[39min\u001b[39;00m company_report_encodings\u001b[39m.\u001b[39mitems():\n\u001b[1;32m     47\u001b[0m     \u001b[39mfor\u001b[39;00m sentence_key, sentence_value \u001b[39min\u001b[39;00m paragraph_values\u001b[39m.\u001b[39mitems():\n\u001b[0;32m---> 49\u001b[0m         distance \u001b[39m=\u001b[39m scipy\u001b[39m.\u001b[39;49mspatial\u001b[39m.\u001b[39mdistance\u001b[39m.\u001b[39mcdist([topic_value], [sentence_value], \u001b[39m\"\u001b[39m\u001b[39mcosine\u001b[39m\u001b[39m\"\u001b[39m)[\u001b[39m0\u001b[39m]\n\u001b[1;32m     51\u001b[0m         score \u001b[39m=\u001b[39m \u001b[39m1\u001b[39m\u001b[39m-\u001b[39mdistance[\u001b[39m0\u001b[39m]\n\u001b[1;32m     52\u001b[0m         \u001b[39mif\u001b[39;00m score \u001b[39m>\u001b[39m THRESHOLD:\n",
      "\u001b[0;31mAttributeError\u001b[0m: module 'scipy' has no attribute 'spatial'"
     ]
    }
   ],
   "source": [
    "import json\n",
    "import scipy\n",
    "import os\n",
    "import random\n",
    "\n",
    "ENCODINGS_DIRECTORY = '00_data/encoding_results'\n",
    "REPORT_ENCODINGS = (file for file in os.listdir(ENCODINGS_DIRECTORY) if (os.path.isfile(os.path.join(ENCODINGS_DIRECTORY, file)) and file.endswith(\".json\")))\n",
    "QUERY_ENCODINGS = '00_data/encoding_results/all-mpnet-base-v2_query_sentences.json'\n",
    "\n",
    "RESULTS_DIRECTORY = '00_data/encoding_based_similarity_analysis_results'\n",
    "\n",
    "PARSING_METHOD = 'pdfminer'\n",
    "\n",
    "THRESHOLD = 0.65\n",
    "SAMPLE = 1\n",
    "         \n",
    "result = {}\n",
    "\n",
    "print(\"Start similarity analysis...\")\n",
    "\n",
    "with open(QUERY_ENCODINGS) as f:\n",
    "    query_encodings = json.load(f)\n",
    "\n",
    "for topic, topic_values in query_encodings.items():\n",
    "    new_vals = random.sample(topic_values, int(len(topic_values)*SAMPLE))\n",
    "    query_encodings[topic] = new_vals\n",
    "\n",
    "for file in REPORT_ENCODINGS:\n",
    "    if file.split('_')[1] == PARSING_METHOD:\n",
    "        company = file.split('_')[2]\n",
    "        \n",
    "        if company not in result:\n",
    "            result[company] = {}\n",
    "            \n",
    "        print(f\"... for {company} report\")\n",
    "            \n",
    "        with open('{}/{}'.format(ENCODINGS_DIRECTORY, file)) as f:\n",
    "            company_report_encodings = json.load(f)\n",
    "            \n",
    "            for topic, topic_values in query_encodings.items():\n",
    "                if topic not in result[company]:\n",
    "                    result[company][topic] = []\n",
    "                    \n",
    "                for topic_value in topic_values:   \n",
    "                    \n",
    "                    for paragraph_key, paragraph_values in company_report_encodings.items():\n",
    "                        for sentence_key, sentence_value in paragraph_values.items():\n",
    "\n",
    "                            distance = scipy.spatial.distance.cdist([topic_value], [sentence_value], \"cosine\")[0]\n",
    "\n",
    "                            score = 1-distance[0]\n",
    "                            if score > THRESHOLD:\n",
    "                                result[company][topic].append((paragraph_key, sentence_key, score))\n",
    "\n",
    "\n",
    "with open('{}/{}_{}_th={}_sample={}.json'.format(RESULTS_DIRECTORY, PARSING_METHOD, 'found_sentences', THRESHOLD, SAMPLE), 'w') as f:\n",
    "    json.dump(result, f, indent=4)\n",
    "\n",
    "print(f\"Done. Results saved in {RESULTS_DIRECTORY}\")\n",
    "    "
   ]
  }
 ],
 "metadata": {
  "kernelspec": {
   "display_name": "Python 3",
   "language": "python",
   "name": "python3"
  },
  "language_info": {
   "codemirror_mode": {
    "name": "ipython",
    "version": 3
   },
   "file_extension": ".py",
   "mimetype": "text/x-python",
   "name": "python",
   "nbconvert_exporter": "python",
   "pygments_lexer": "ipython3",
   "version": "3.10.4"
  },
  "vscode": {
   "interpreter": {
    "hash": "8a6f405b6c4c405440af8eab0dc9f19e4465f18e86f6e742b7258386c0143e61"
   }
  }
 },
 "nbformat": 4,
 "nbformat_minor": 2
}
