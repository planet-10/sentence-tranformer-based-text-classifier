{
 "cells": [
  {
   "attachments": {},
   "cell_type": "markdown",
   "metadata": {},
   "source": [
    "# Similarity Analysis using Bag of Words and tf-idf"
   ]
  },
  {
   "cell_type": "code",
   "execution_count": 1,
   "metadata": {},
   "outputs": [],
   "source": [
    "import json\n",
    "import os\n",
    "import pandas as pd\n",
    "\n",
    "# on a first run, the nltk models have to be loaded\n",
    "# import nltk\n",
    "# # nltk.download('all')\n",
    "# nltk.download('averaged_perceptron_tagger')\n",
    "\n",
    "from nltk.stem import WordNetLemmatizer\n",
    "from nltk.tokenize import word_tokenize\n",
    "\n",
    "from sklearn.feature_extraction.text import TfidfTransformer, CountVectorizer"
   ]
  },
  {
   "cell_type": "code",
   "execution_count": 2,
   "metadata": {},
   "outputs": [],
   "source": [
    "# Create a lemmatizer function to lemmatize all words in a string\n",
    "lemmatizer = WordNetLemmatizer()\n",
    "\n",
    "def lemmatize(text):\n",
    "    words = word_tokenize(text.lower())\n",
    "    return ' '.join(lemmatizer.lemmatize(word) for word in words)"
   ]
  },
  {
   "attachments": {},
   "cell_type": "markdown",
   "metadata": {},
   "source": [
    "## Extract search terms using tfidf"
   ]
  },
  {
   "cell_type": "code",
   "execution_count": 3,
   "metadata": {},
   "outputs": [],
   "source": [
    "RESULTS_DIRECTORY = '00_data/keyword_search_results/'\n",
    "\n",
    "# ngram_min depicts the minimum number of words a search term can have\n",
    "ngram_min = 2\n",
    "\n",
    "# ngram_max depicts the maximum number of words a search term can have\n",
    "ngram_max = 2\n",
    "\n",
    "# Load topical sentences\n",
    "with open('00_data/queries/query_sentences.json') as f:\n",
    "    queries = json.load(f)\n",
    "\n",
    "# search_terms will contain all search terms by topic\n",
    "search_terms = {}\n",
    "\n",
    "# Lemmatize search terms\n",
    "for key, value in queries.items():\n",
    "    docs = []\n",
    "    for text in value:\n",
    "        docs.append(lemmatize(text))\n",
    "\n",
    "    # Count words for each sentence in the topical sentences\n",
    "    cv=CountVectorizer(stop_words='english', ngram_range = (ngram_min, ngram_max)) \n",
    "    word_count_vector=cv.fit_transform(docs)\n",
    "\n",
    "    # Calculate tf-idf scores\n",
    "    tfidf_transformer=TfidfTransformer(smooth_idf=True,use_idf=True) \n",
    "    tfidf_transformer.fit(word_count_vector)\n",
    "    count_vector=cv.transform(docs) \n",
    "    tf_idf_vector=tfidf_transformer.transform(count_vector)\n",
    "\n",
    "    # Use all terms as search terms that have a tf-idf score bigger than zero\n",
    "    feature_names = cv.get_feature_names_out() \n",
    "    first_document_vector = tf_idf_vector[0] \n",
    "\n",
    "    df= pd.DataFrame({'feature': feature_names, 'tfidf': [x.item(0) for x in first_document_vector.T.todense()]})\n",
    "    df = df.sort_values(by='tfidf', ascending=False)\n",
    "    df = df[df['tfidf'] > 0]\n",
    "\n",
    "    search_terms[key] = list(df['feature'].values)\n",
    "\n",
    "# store search terms in json file\n",
    "with open('{}/{}.json'.format(RESULTS_DIRECTORY, 'search_terms'), 'w') as f:\n",
    "    json.dump(search_terms, f, indent=4)"
   ]
  },
  {
   "attachments": {},
   "cell_type": "markdown",
   "metadata": {},
   "source": [
    "## Find sentences containing search terms"
   ]
  },
  {
   "cell_type": "code",
   "execution_count": 4,
   "metadata": {},
   "outputs": [],
   "source": [
    "PARSED_DIRECTORY = '00_data/parsing_results'\n",
    "PARSING_RESULTS = (file for file in os.listdir(PARSED_DIRECTORY) if os.path.isfile(os.path.join(PARSED_DIRECTORY, file)))\n",
    "\n",
    "# parsing_method depicts what encodings should be used (pdfminer or easyocr)\n",
    "parsing_method = 'pdfminer'\n",
    "\n",
    "# min_matches depicts the minimum number of different terms that have to match for a sentence to be deemed as relevant\n",
    "min_matches = 1\n",
    "\n",
    "# min_length depicts the minimum number of characters a paragraph should have to be searched\n",
    "min_length = 30\n",
    "\n",
    "# result will contain all relevant sentences by topic\n",
    "result = {}\n",
    "\n",
    "# Search all reports\n",
    "for file in PARSING_RESULTS:\n",
    "\n",
    "    # Only use reports with the specified parsing method\n",
    "    if file.split('_')[0] == parsing_method:\n",
    "\n",
    "        company = file.split('_')[1]\n",
    "\n",
    "        # Add empty sub-dictionary for each company\n",
    "        if company not in result:\n",
    "            result[company] = {}\n",
    "\n",
    "        # Load encoded report\n",
    "        with open('{}/{}'.format(PARSED_DIRECTORY, file)) as f:\n",
    "\n",
    "            parsed_text = json.load(f)\n",
    "\n",
    "            # Go through each sentence in each paragraph\n",
    "            for paragraph_id, sentences in parsed_text.items():\n",
    "\n",
    "                # Test if minimum number of characters is reached\n",
    "                whole_text = ' '.join([sent for sent in sentences.values()])\n",
    "                if len(whole_text) >= min_length:\n",
    "\n",
    "                    # lemmatize each sentence and search for search terms\n",
    "                    for sentence_id, sentence in sentences.items():\n",
    "\n",
    "                        lemmatized_sentence = lemmatize(sentence)\n",
    "\n",
    "                        # Search by topic\n",
    "                        for topic, terms in search_terms.items():\n",
    "\n",
    "                            if topic not in result[company]:\n",
    "                                result[company][topic] = []\n",
    "\n",
    "                            # Add sentence to results if search terms are found\n",
    "                            match_count = 0\n",
    "                            for term in terms:\n",
    "                                if term in lemmatized_sentence:\n",
    "                                    match_count += 1\n",
    "                            \n",
    "                            if match_count >= min_matches:\n",
    "                                result[company][topic].append((paragraph_id, sentence_id, term))\n",
    "                        \n",
    "# Store result in a json file                        \n",
    "with open('{}/{}_{}.json'.format(RESULTS_DIRECTORY, parsing_method, 'found_sentences'), 'w') as f:\n",
    "    json.dump(result, f, indent=4)"
   ]
  }
 ],
 "metadata": {
  "kernelspec": {
   "display_name": "sentence-tranformer-based-text-classifier-v9DLVhDS",
   "language": "python",
   "name": "python3"
  },
  "language_info": {
   "codemirror_mode": {
    "name": "ipython",
    "version": 3
   },
   "file_extension": ".py",
   "mimetype": "text/x-python",
   "name": "python",
   "nbconvert_exporter": "python",
   "pygments_lexer": "ipython3",
   "version": "3.10.1 (tags/v3.10.1:2cd268a, Dec  6 2021, 19:10:37) [MSC v.1929 64 bit (AMD64)]"
  },
  "orig_nbformat": 4,
  "vscode": {
   "interpreter": {
    "hash": "699fffafd8210b9e4d385c95525aa3103f74d5a70210565d702f2074deeb0b89"
   }
  }
 },
 "nbformat": 4,
 "nbformat_minor": 2
}
