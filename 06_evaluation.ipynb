{
 "cells": [
  {
   "attachments": {},
   "cell_type": "markdown",
   "metadata": {},
   "source": [
    "Setup"
   ]
  },
  {
   "cell_type": "code",
   "execution_count": null,
   "metadata": {},
   "outputs": [],
   "source": [
    "import os\n",
    "import json\n",
    "import pandas as pd\n",
    "import matplotlib.pyplot as plt\n",
    "import seaborn as sns"
   ]
  },
  {
   "cell_type": "code",
   "execution_count": null,
   "metadata": {},
   "outputs": [],
   "source": [
    "approach = 'Baseline'\n",
    "#approach = 'SBERT based'\n",
    "\n",
    "result_file = '00_data/keyword_search_results/pdfminer_found_sentences.json'\n",
    "#result_file = '00_data/encoding_based_similarity_analysis_results/pdfminer_found_sentences_th=0.65_sample=1.json'\n",
    "validation_file = '00_data/validation_data/pdfminer_matched_sentences.json'\n",
    "\n",
    "with open(result_file, encoding=\"utf-8\") as f:\n",
    "    results = json.load(f)\n",
    "\n",
    "with open(validation_file, encoding=\"utf-8\") as f:\n",
    "    validation = json.load(f)\n"
   ]
  },
  {
   "attachments": {},
   "cell_type": "markdown",
   "metadata": {},
   "source": [
    "Match Paragraphs"
   ]
  },
  {
   "cell_type": "code",
   "execution_count": null,
   "metadata": {},
   "outputs": [],
   "source": [
    "rel_par = {}\n",
    "for company, value in validation.items():\n",
    "    rel_par[company] = {}\n",
    "\n",
    "    for topic, sentences in value.items():\n",
    "        rel_par[company][topic] = []\n",
    "\n",
    "        for sentence in sentences:\n",
    "            if sentence[0] not in rel_par[company][topic]:\n",
    "                rel_par[company][topic].append(sentence[0])\n",
    "\n",
    "found_par = {}\n",
    "for company, value in results.items():\n",
    "    found_par[company] = {}\n",
    "\n",
    "    for topic, sentences in value.items():\n",
    "        found_par[company][topic] = []\n",
    "\n",
    "        for sentence in sentences:\n",
    "            if sentence[0] not in found_par[company][topic]:\n",
    "                found_par[company][topic].append(sentence[0])"
   ]
  },
  {
   "attachments": {},
   "cell_type": "markdown",
   "metadata": {},
   "source": [
    "Create results table"
   ]
  },
  {
   "cell_type": "code",
   "execution_count": null,
   "metadata": {},
   "outputs": [],
   "source": [
    "overlap_results = []\n",
    "\n",
    "for company, value in rel_par.items():\n",
    "    for topic, par_v in value.items():\n",
    "\n",
    "        par_r = found_par[company][topic]\n",
    "        res_row = [company, topic, len(par_v), len(par_r)]\n",
    "        overlap = [value for value in par_r if value in par_v]\n",
    "\n",
    "        res_row.append(len(overlap))\n",
    "        overlap_results.append(res_row)\n",
    "\n",
    "df_overlap = pd.DataFrame(overlap_results, columns=['Company', 'Topic', 'Validation paragraphs', 'Found paragraphs', 'Overlap'])"
   ]
  },
  {
   "cell_type": "code",
   "execution_count": null,
   "metadata": {},
   "outputs": [],
   "source": [
    "excerpt = []\n",
    "\n",
    "for company, value in rel_par.items():\n",
    "    \n",
    "    for topic, par_v in value.items():\n",
    "        \n",
    "\n",
    "        val_only = []\n",
    "        class_only = []\n",
    "        overlap = []\n",
    "\n",
    "        par_r = found_par[company][topic]\n",
    "\n",
    "        for par in par_v:\n",
    "            if par in par_r:\n",
    "                overlap.append(par)\n",
    "            else:\n",
    "                val_only.append(par)\n",
    "\n",
    "        for par in par_r:\n",
    "            if par not in par_v:\n",
    "                class_only.append(par)\n",
    "\n",
    "        for par in val_only:\n",
    "            res_row = [company, topic, 1, 0, par]\n",
    "            excerpt.append(res_row)\n",
    "\n",
    "        for par in class_only:\n",
    "            res_row = [company, topic, 0, 1, par]\n",
    "            excerpt.append(res_row)\n",
    "\n",
    "        for par in overlap:\n",
    "            res_row = [company, topic, 1, 1, par]\n",
    "            excerpt.append(res_row)\n",
    "\n",
    "\n",
    "df_excerpt = pd.DataFrame(excerpt, columns=['Company', 'Topic', 'in_val', 'in_detected', 'id'])\n",
    "\n",
    "PARSED_DIRECTORY = '00_data/parsing_results'\n",
    "parsing_method = 'pdfminer'\n",
    "PARSING_RESULTS = (file for file in os.listdir(PARSED_DIRECTORY) if (os.path.isfile(os.path.join(PARSED_DIRECTORY, file)) and file.endswith(\".json\")))\n",
    "PARSING_RESULTS = [file for file in PARSING_RESULTS if parsing_method in file]\n",
    "\n",
    "pars = {}\n",
    "for file in PARSING_RESULTS:\n",
    "    parsing_method = file.split('_')[0]\n",
    "    company = file.split('_')[1]\n",
    "    with open('{}/{}'.format(PARSED_DIRECTORY, file)) as f:\n",
    "        parsed_text = json.load(f)\n",
    "        if parsing_method not in pars:\n",
    "            pars[parsing_method] = {}\n",
    "        pars[parsing_method][company] = parsed_text\n",
    "\n",
    "\n",
    "\n",
    "blocks = []\n",
    "\n",
    "for id, row in df_excerpt.iterrows():\n",
    "    par = pars[parsing_method][row['Company']][row['id']].items()\n",
    "    all_text = ''\n",
    "    for key, value in par:\n",
    "        all_text += '' + (value)\n",
    "    blocks.append(all_text)\n",
    "\n",
    "\n",
    "df_excerpt['block'] = blocks\n",
    "df_excerpt.to_csv('00_data/evaluation_results/{}.csv'.format(approach), sep=';', encoding='utf-8-sig', index=False)\n",
    "df_excerpt.to_excel('00_data/evaluation_results/{}.xlsx'.format(approach), engine='xlsxwriter')\n",
    "        "
   ]
  },
  {
   "attachments": {},
   "cell_type": "markdown",
   "metadata": {},
   "source": [
    "Visualize results table"
   ]
  },
  {
   "cell_type": "code",
   "execution_count": null,
   "metadata": {},
   "outputs": [],
   "source": [
    "df_vis = df_overlap.copy()\n",
    "\n",
    "df_vis['Topic'] = df_vis['Topic'].str.slice(0,2)\n",
    "df_vis = pd.melt(df_vis, id_vars=['Company', 'Topic'], value_vars=['Validation paragraphs', 'Found paragraphs', 'Overlap'])\n",
    "\n",
    "df_vis.columns = ['Company', 'Topic', 'group', 'Number of Paragraphs']\n",
    "\n",
    "for company in df_vis['Company'].unique():\n",
    "    df_tmp = df_vis[df_vis['Company'] == company]\n",
    "    fig = sns.barplot(data=df_tmp, x='Topic', y='Number of Paragraphs', hue='group')\n",
    "    fig.set(title=approach + ': ' + company)\n",
    "    fig.legend_.set_title(None)\n",
    "    plt.show()\n"
   ]
  }
 ],
 "metadata": {
  "kernelspec": {
   "display_name": "sentence-tranformer-based-text-classifier-nWm91RqC",
   "language": "python",
   "name": "python3"
  },
  "language_info": {
   "codemirror_mode": {
    "name": "ipython",
    "version": 3
   },
   "file_extension": ".py",
   "mimetype": "text/x-python",
   "name": "python",
   "nbconvert_exporter": "python",
   "pygments_lexer": "ipython3",
   "version": "3.10.8"
  },
  "orig_nbformat": 4,
  "vscode": {
   "interpreter": {
    "hash": "8e82d51497d044bae6e664cc29960b706a3eb7ed2e9e21e37f7ef33c95f3f140"
   }
  }
 },
 "nbformat": 4,
 "nbformat_minor": 2
}
