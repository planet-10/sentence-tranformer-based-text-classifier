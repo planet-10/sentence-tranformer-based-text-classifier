{
 "cells": [
  {
   "cell_type": "code",
   "execution_count": null,
   "metadata": {},
   "outputs": [],
   "source": [
    "import json\n",
    "import os\n",
    "from Levenshtein import distance"
   ]
  },
  {
   "attachments": {},
   "cell_type": "markdown",
   "metadata": {},
   "source": [
    "Load expert selections and parsing results"
   ]
  },
  {
   "cell_type": "code",
   "execution_count": null,
   "metadata": {},
   "outputs": [],
   "source": [
    "VALIDATION_DIRECTORY = '00_data/validation_data'\n",
    "\n",
    "with open('{}/{}'.format(VALIDATION_DIRECTORY, 'validation_paragraphs.json'), encoding=\"utf-8\") as f:\n",
    "    val = json.load(f)\n",
    "\n",
    "PARSED_DIRECTORY = '00_data/parsing_results'\n",
    "PARSING_RESULTS = (file for file in os.listdir(PARSED_DIRECTORY) if (os.path.isfile(os.path.join(PARSED_DIRECTORY, file)) and file.endswith(\".json\")))\n",
    "\n",
    "pars = {}\n",
    "for file in PARSING_RESULTS:\n",
    "    parsing_method = file.split('_')[0]\n",
    "    company = file.split('_')[1]\n",
    "    with open('{}/{}'.format(PARSED_DIRECTORY, file)) as f:\n",
    "        parsed_text = json.load(f)\n",
    "        if parsing_method not in pars:\n",
    "            pars[parsing_method] = {}\n",
    "        pars[parsing_method][company] = parsed_text"
   ]
  },
  {
   "cell_type": "code",
   "execution_count": null,
   "metadata": {},
   "outputs": [],
   "source": [
    "parsing_method = 'pdfminer'\n",
    "min_sentence_length = 15\n",
    "max_dist_threshold = 0.05\n",
    "relevant_sentences = {}\n",
    "\n",
    "for company, topics in val.items():\n",
    "\n",
    "    relevant_sentences[company] = {}\n",
    "    report_text = pars[parsing_method][company]\n",
    "\n",
    "    for topic, val_paragraphs in topics.items():\n",
    "        relevant_sentences[company][topic] = []\n",
    "\n",
    "        for val_paragraph in val_paragraphs:\n",
    "            \n",
    "            min_par_sim = 1\n",
    "            for rep_par_idx, rep_par_sentences in report_text.items():\n",
    "                for rep_par_sent_idx, rep_par_sent in rep_par_sentences.items():\n",
    "                    min_sim = 1\n",
    "                    if len(rep_par_sent) >= min_sentence_length:\n",
    "                        start_idx = 0\n",
    "                        end_idx = len(rep_par_sent)\n",
    "\n",
    "                        while end_idx < len(val_paragraph):\n",
    "\n",
    "                            test_str = val_paragraph[start_idx:end_idx]\n",
    "                            dist = distance(rep_par_sent, test_str) / len(rep_par_sent)\n",
    "\n",
    "                            if dist < min_sim:\n",
    "                                min_sim = dist\n",
    "\n",
    "                            start_idx += 1\n",
    "                            end_idx += 1\n",
    "\n",
    "                        if min_sim <= max_dist_threshold:\n",
    "                            relevant_sentences[company][topic].append((rep_par_idx, rep_par_sent_idx))\n",
    "\n",
    "with open('{}/{}_{}.json'.format(VALIDATION_DIRECTORY, parsing_method, 'matched_sentences'), 'w') as f:\n",
    "    json.dump(relevant_sentences, f, indent=4)"
   ]
  },
  {
   "cell_type": "code",
   "execution_count": null,
   "metadata": {},
   "outputs": [],
   "source": [
    "parsing_method = 'easyocr'\n",
    "min_sentence_length = 15\n",
    "max_dist_threshold = 0.1\n",
    "relevant_sentences = {}\n",
    "\n",
    "for company, topics in val.items():\n",
    "\n",
    "    relevant_sentences[company] = {}\n",
    "    report_text = pars[parsing_method][company]\n",
    "\n",
    "    for topic, val_paragraphs in topics.items():\n",
    "        relevant_sentences[company][topic] = []\n",
    "\n",
    "        for val_paragraph in val_paragraphs:\n",
    "            \n",
    "            min_par_sim = 1\n",
    "            for rep_par_idx, rep_par_sentences in report_text.items():\n",
    "                for rep_par_sent_idx, rep_par_sent in rep_par_sentences.items():\n",
    "                    min_sim = 1\n",
    "                    if len(rep_par_sent) >= min_sentence_length:\n",
    "                        start_idx = 0\n",
    "                        end_idx = len(rep_par_sent)\n",
    "\n",
    "                        while end_idx < len(val_paragraph):\n",
    "\n",
    "                            test_str = val_paragraph[start_idx:end_idx]\n",
    "                            dist = distance(rep_par_sent, test_str) / len(rep_par_sent)\n",
    "\n",
    "                            if dist < min_sim:\n",
    "                                min_sim = dist\n",
    "\n",
    "                            start_idx += 1\n",
    "                            end_idx += 1\n",
    "\n",
    "                        if min_sim <= max_dist_threshold:\n",
    "                            relevant_sentences[company][topic].append((rep_par_idx, rep_par_sent_idx))\n",
    "\n",
    "with open('{}/{}_{}.json'.format(VALIDATION_DIRECTORY, parsing_method, 'matched_sentences'), 'w') as f:\n",
    "    json.dump(relevant_sentences, f, indent=4)"
   ]
  }
 ],
 "metadata": {
  "kernelspec": {
   "display_name": "sentence-tranformer-based-text-classifier-nWm91RqC",
   "language": "python",
   "name": "python3"
  },
  "language_info": {
   "codemirror_mode": {
    "name": "ipython",
    "version": 3
   },
   "file_extension": ".py",
   "mimetype": "text/x-python",
   "name": "python",
   "nbconvert_exporter": "python",
   "pygments_lexer": "ipython3",
   "version": "3.10.8 (main, Oct 13 2022, 09:48:40) [Clang 14.0.0 (clang-1400.0.29.102)]"
  },
  "orig_nbformat": 4,
  "vscode": {
   "interpreter": {
    "hash": "8e82d51497d044bae6e664cc29960b706a3eb7ed2e9e21e37f7ef33c95f3f140"
   }
  }
 },
 "nbformat": 4,
 "nbformat_minor": 2
}
