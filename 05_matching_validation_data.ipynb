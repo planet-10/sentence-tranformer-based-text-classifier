{
 "cells": [
  {
   "attachments": {},
   "cell_type": "markdown",
   "metadata": {},
   "source": [
    "# Match validation data with parsed reports"
   ]
  },
  {
   "cell_type": "code",
   "execution_count": null,
   "metadata": {},
   "outputs": [],
   "source": [
    "import json\n",
    "import os\n",
    "from Levenshtein import distance"
   ]
  },
  {
   "attachments": {},
   "cell_type": "markdown",
   "metadata": {},
   "source": [
    "## Load expert selections and parsing results"
   ]
  },
  {
   "cell_type": "code",
   "execution_count": null,
   "metadata": {},
   "outputs": [],
   "source": [
    "VALIDATION_DIRECTORY = '00_data/validation_data'\n",
    "\n",
    "# Load validation data from json file\n",
    "with open('{}/{}'.format(VALIDATION_DIRECTORY, 'validation_paragraphs.json'), encoding=\"utf-8\") as f:\n",
    "    val = json.load(f)\n",
    "\n",
    "PARSED_DIRECTORY = '00_data/parsing_results'\n",
    "PARSING_RESULTS = (file for file in os.listdir(PARSED_DIRECTORY) if (os.path.isfile(os.path.join(PARSED_DIRECTORY, file)) and file.endswith(\".json\")))\n",
    "\n",
    "# Load all parsed reports into one dictionary\n",
    "pars = {}\n",
    "for file in PARSING_RESULTS:\n",
    "    parsing_method = file.split('_')[0]\n",
    "    company = file.split('_')[1]\n",
    "    with open('{}/{}'.format(PARSED_DIRECTORY, file)) as f:\n",
    "        parsed_text = json.load(f)\n",
    "        if parsing_method not in pars:\n",
    "            pars[parsing_method] = {}\n",
    "        pars[parsing_method][company] = parsed_text"
   ]
  },
  {
   "cell_type": "code",
   "execution_count": null,
   "metadata": {},
   "outputs": [],
   "source": [
    "# parsing_method specifies what kind of parsing method should be used (pdfminer or easyocr)\n",
    "parsing_method = 'pdfminer'\n",
    "\n",
    "# minimum length of a sentence to be considered\n",
    "min_sentence_length = 15\n",
    "\n",
    "# this threshold depicts the maximum normalized levensthein distance between a validation sentence and a parsed sentence in order for a match\n",
    "# The levenshtein distance will me normalized (levenshtein distance)/(length of sentence)\n",
    "max_dist_threshold = 0.05\n",
    "\n",
    "# relevant_sentences will contain all sentences that were matched\n",
    "relevant_sentences = {}\n",
    "\n",
    "# Match data for all reports and all validation data\n",
    "for company, topics in val.items():\n",
    "\n",
    "    relevant_sentences[company] = {}\n",
    "    report_text = pars[parsing_method][company]\n",
    "\n",
    "    # Iterate over all validation data\n",
    "    for topic, val_paragraphs in topics.items():\n",
    "        relevant_sentences[company][topic] = []\n",
    "\n",
    "        # Iterate over each paragraph\n",
    "        for val_paragraph in val_paragraphs:\n",
    "\n",
    "            # Compare each sentence in parsed reports\n",
    "            for rep_par_idx, rep_par_sentences in report_text.items():\n",
    "                for rep_par_sent_idx, rep_par_sent in rep_par_sentences.items():\n",
    "\n",
    "                    # Initialize min_par_sim with maximum possible normalized levenshtein distance\n",
    "                    min_sim = 1\n",
    "\n",
    "                    # Only compare paragraphs if it has the minimal required length\n",
    "                    if len(rep_par_sent) >= min_sentence_length:\n",
    "                        start_idx = 0\n",
    "                        end_idx = len(rep_par_sent)\n",
    "\n",
    "                        # Iterate over all possible substrings of a paragraph and compute minimal possible levenshtein distance\n",
    "                        while end_idx < len(val_paragraph):\n",
    "\n",
    "                            test_str = val_paragraph[start_idx:end_idx]\n",
    "                            dist = distance(rep_par_sent, test_str) / len(rep_par_sent)\n",
    "\n",
    "                            # Only keep minimal levenshtein distance of any substring\n",
    "                            if dist < min_sim:\n",
    "                                min_sim = dist\n",
    "\n",
    "                            start_idx += 1\n",
    "                            end_idx += 1\n",
    "\n",
    "                        # If any substring had normalized levenshtein distance below the threshold, add it to the matched data\n",
    "                        if min_sim <= max_dist_threshold:\n",
    "                            relevant_sentences[company][topic].append((rep_par_idx, rep_par_sent_idx))\n",
    "\n",
    "# Save results to json file\n",
    "with open('{}/{}_{}.json'.format(VALIDATION_DIRECTORY, parsing_method, 'matched_sentences'), 'w') as f:\n",
    "    json.dump(relevant_sentences, f, indent=4)"
   ]
  }
 ],
 "metadata": {
  "kernelspec": {
   "display_name": "sentence-tranformer-based-text-classifier-v9DLVhDS",
   "language": "python",
   "name": "python3"
  },
  "language_info": {
   "codemirror_mode": {
    "name": "ipython",
    "version": 3
   },
   "file_extension": ".py",
   "mimetype": "text/x-python",
   "name": "python",
   "nbconvert_exporter": "python",
   "pygments_lexer": "ipython3",
   "version": "3.10.1 (tags/v3.10.1:2cd268a, Dec  6 2021, 19:10:37) [MSC v.1929 64 bit (AMD64)]"
  },
  "orig_nbformat": 4,
  "vscode": {
   "interpreter": {
    "hash": "699fffafd8210b9e4d385c95525aa3103f74d5a70210565d702f2074deeb0b89"
   }
  }
 },
 "nbformat": 4,
 "nbformat_minor": 2
}
