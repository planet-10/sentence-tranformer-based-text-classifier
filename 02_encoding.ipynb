{
 "cells": [
  {
   "attachments": {},
   "cell_type": "markdown",
   "metadata": {},
   "source": [
    "# Encode with SentenceTransformers"
   ]
  },
  {
   "cell_type": "code",
   "execution_count": 1,
   "metadata": {},
   "outputs": [],
   "source": [
    "import re\n",
    "import os\n",
    "import json\n",
    "\n",
    "# Import the model all-mpnet-base-v2 using the transformer library\n",
    "from sentence_transformers import SentenceTransformer\n",
    "MODEL = 'all-mpnet-base-v2'\n",
    "ENCODER = SentenceTransformer('all-mpnet-base-v2') \n",
    "\n",
    "def encode(input): \n",
    "    return ENCODER.encode(input, show_progress_bar = True)"
   ]
  },
  {
   "cell_type": "code",
   "execution_count": 2,
   "metadata": {},
   "outputs": [],
   "source": [
    "PARSED_DIRECTORY = '00_data/parsing_results'\n",
    "NLP_RESULTS_DIRECTORY = '00_data/encoding_results'\n",
    "REPORTS = [f for f in os.listdir(PARSED_DIRECTORY) if f[-4:] == 'json']"
   ]
  },
  {
   "attachments": {},
   "cell_type": "markdown",
   "metadata": {},
   "source": [
    "## Encoding reports"
   ]
  },
  {
   "cell_type": "code",
   "execution_count": 3,
   "metadata": {},
   "outputs": [
    {
     "data": {
      "application/vnd.jupyter.widget-view+json": {
       "model_id": "9b1ddc5099fb48f68d992a6832cc8153",
       "version_major": 2,
       "version_minor": 0
      },
      "text/plain": [
       "Batches:   0%|          | 0/50 [00:00<?, ?it/s]"
      ]
     },
     "metadata": {},
     "output_type": "display_data"
    },
    {
     "data": {
      "application/vnd.jupyter.widget-view+json": {
       "model_id": "0eeaa348377b4576919a3d25b643d9f9",
       "version_major": 2,
       "version_minor": 0
      },
      "text/plain": [
       "Batches:   0%|          | 0/89 [00:00<?, ?it/s]"
      ]
     },
     "metadata": {},
     "output_type": "display_data"
    },
    {
     "data": {
      "application/vnd.jupyter.widget-view+json": {
       "model_id": "a7b7edaf87cf4b96a6628b3834199d53",
       "version_major": 2,
       "version_minor": 0
      },
      "text/plain": [
       "Batches:   0%|          | 0/213 [00:00<?, ?it/s]"
      ]
     },
     "metadata": {},
     "output_type": "display_data"
    },
    {
     "data": {
      "application/vnd.jupyter.widget-view+json": {
       "model_id": "ab3272ff448647d18a54637c5d0a1768",
       "version_major": 2,
       "version_minor": 0
      },
      "text/plain": [
       "Batches:   0%|          | 0/140 [00:00<?, ?it/s]"
      ]
     },
     "metadata": {},
     "output_type": "display_data"
    }
   ],
   "source": [
    "# Encode each sentence of the parsed reports\n",
    "for file in REPORTS:\n",
    "    encodings = {}\n",
    "    \n",
    "    # Read encoded report from json file\n",
    "    with open('{}/{}'.format(PARSED_DIRECTORY, file)) as f:\n",
    "        parsed_text = json.load(f)\n",
    "\n",
    "    # To speed up the process, sentences are stored as a list\n",
    "\n",
    "    # keys contains the paragraph and sentence id\n",
    "    keys = [] \n",
    "    # values contains the sentences to be encoded\n",
    "    values = []\n",
    "\n",
    "    # Add sentences and keys to respective lists\n",
    "    for paragraph_key, paragraph_value in parsed_text.items():\n",
    "\n",
    "        for sentence_key, sentence_value in paragraph_value.items():\n",
    "            keys.append([paragraph_key, sentence_key])\n",
    "            values.append(sentence_value)\n",
    "    \n",
    "    # Encode sentences\n",
    "    values = encode(values)\n",
    "\n",
    "    # Transform encodings in list to a dictionary with the same structure as the dictionary containing the sentences\n",
    "    for key, value in zip(keys, values):\n",
    "        if key[0] not in encodings:\n",
    "            encodings[key[0]] = {}\n",
    "\n",
    "        encodings[key[0]][key[1]] = value.tolist()\n",
    "\n",
    "    # Save dictionary to json file\n",
    "    with open('{}/{}_{}.json'.format(NLP_RESULTS_DIRECTORY, MODEL, file[:-5]), 'w') as f:\n",
    "        json.dump(encodings, f, indent=4)   \n"
   ]
  },
  {
   "attachments": {},
   "cell_type": "markdown",
   "metadata": {},
   "source": [
    "## Encode topical sentences (queries)"
   ]
  },
  {
   "cell_type": "code",
   "execution_count": 4,
   "metadata": {},
   "outputs": [
    {
     "data": {
      "application/vnd.jupyter.widget-view+json": {
       "model_id": "efef0da54bc54b02918ce3e0816f16c9",
       "version_major": 2,
       "version_minor": 0
      },
      "text/plain": [
       "Batches:   0%|          | 0/3 [00:00<?, ?it/s]"
      ]
     },
     "metadata": {},
     "output_type": "display_data"
    },
    {
     "data": {
      "application/vnd.jupyter.widget-view+json": {
       "model_id": "799ac54c3d474e19a70cb3d332a69994",
       "version_major": 2,
       "version_minor": 0
      },
      "text/plain": [
       "Batches:   0%|          | 0/3 [00:00<?, ?it/s]"
      ]
     },
     "metadata": {},
     "output_type": "display_data"
    },
    {
     "data": {
      "application/vnd.jupyter.widget-view+json": {
       "model_id": "1a853c44bb67485e963955203dc49cd3",
       "version_major": 2,
       "version_minor": 0
      },
      "text/plain": [
       "Batches:   0%|          | 0/4 [00:00<?, ?it/s]"
      ]
     },
     "metadata": {},
     "output_type": "display_data"
    },
    {
     "data": {
      "application/vnd.jupyter.widget-view+json": {
       "model_id": "6661a836e7d1415aaaf73f5128b83f65",
       "version_major": 2,
       "version_minor": 0
      },
      "text/plain": [
       "Batches:   0%|          | 0/1 [00:00<?, ?it/s]"
      ]
     },
     "metadata": {},
     "output_type": "display_data"
    },
    {
     "data": {
      "application/vnd.jupyter.widget-view+json": {
       "model_id": "3d15bd2049854cf2a1f272f7a499500c",
       "version_major": 2,
       "version_minor": 0
      },
      "text/plain": [
       "Batches:   0%|          | 0/3 [00:00<?, ?it/s]"
      ]
     },
     "metadata": {},
     "output_type": "display_data"
    },
    {
     "data": {
      "application/vnd.jupyter.widget-view+json": {
       "model_id": "399a30268a2e4d95b279f5f99d340234",
       "version_major": 2,
       "version_minor": 0
      },
      "text/plain": [
       "Batches:   0%|          | 0/3 [00:00<?, ?it/s]"
      ]
     },
     "metadata": {},
     "output_type": "display_data"
    }
   ],
   "source": [
    "QUERIES_PATH = '00_data/queries'\n",
    "FILENAME = 'query_sentences.json'\n",
    "with open('{}/{}'.format(QUERIES_PATH, FILENAME)) as f:\n",
    "    queries = json.load(f)\n",
    "\n",
    "encodings = {}\n",
    "\n",
    "for key, value in queries.items():\n",
    "    sentences = [text for text in value]\n",
    "    sentences = encode(sentences)\n",
    "\n",
    "    encodings[key] = sentences.tolist()\n",
    "\n",
    "with open('{}/{}_{}.json'.format(NLP_RESULTS_DIRECTORY, MODEL, FILENAME[:-5]), 'w') as f:\n",
    "       json.dump(encodings, f, indent=4)"
   ]
  }
 ],
 "metadata": {
  "kernelspec": {
   "display_name": "sentence-tranformer-based-text-classifier-v9DLVhDS",
   "language": "python",
   "name": "python3"
  },
  "language_info": {
   "codemirror_mode": {
    "name": "ipython",
    "version": 3
   },
   "file_extension": ".py",
   "mimetype": "text/x-python",
   "name": "python",
   "nbconvert_exporter": "python",
   "pygments_lexer": "ipython3",
   "version": "3.10.1 (tags/v3.10.1:2cd268a, Dec  6 2021, 19:10:37) [MSC v.1929 64 bit (AMD64)]"
  },
  "orig_nbformat": 4,
  "vscode": {
   "interpreter": {
    "hash": "699fffafd8210b9e4d385c95525aa3103f74d5a70210565d702f2074deeb0b89"
   }
  }
 },
 "nbformat": 4,
 "nbformat_minor": 2
}
