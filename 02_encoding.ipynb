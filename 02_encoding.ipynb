{
 "cells": [
  {
   "attachments": {},
   "cell_type": "markdown",
   "metadata": {},
   "source": [
    "# Encode with SentenceTransformers"
   ]
  },
  {
   "cell_type": "code",
   "execution_count": null,
   "metadata": {},
   "outputs": [],
   "source": [
    "from sentence_transformers import SentenceTransformer\n",
    "import re\n",
    "import os\n",
    "import json\n",
    "\n",
    "MODEL = 'all-mpnet-base-v2'\n",
    "ENCODER = SentenceTransformer('all-mpnet-base-v2') \n",
    "\n",
    "def encode(input): \n",
    "    return ENCODER.encode(input, show_progress_bar = True)"
   ]
  },
  {
   "cell_type": "code",
   "execution_count": null,
   "metadata": {},
   "outputs": [],
   "source": [
    "PARSED_DIRECTORY = '00_data/parsing_results'\n",
    "NLP_RESULTS_DIRECTORY = '00_data/encoding_results'\n",
    "REPORTS = [f for f in os.listdir(PARSED_DIRECTORY) if f[-4:] == 'json']"
   ]
  },
  {
   "cell_type": "code",
   "execution_count": null,
   "metadata": {},
   "outputs": [],
   "source": [
    "\n",
    "for file in REPORTS:\n",
    "    encodings = {}\n",
    "    \n",
    "    with open('{}/{}'.format(PARSED_DIRECTORY, file)) as f:\n",
    "        parsed_text = json.load(f)\n",
    "\n",
    "    keys = []\n",
    "    values = []\n",
    "\n",
    "    for paragraph_key, paragraph_value in parsed_text.items():\n",
    "    \n",
    "\n",
    "        for sentence_key, sentence_value in paragraph_value.items():\n",
    "            keys.append([paragraph_key, sentence_key])\n",
    "            values.append(sentence_value)\n",
    "    \n",
    "    values = encode(values)\n",
    "\n",
    "    for key, value in zip(keys, values):\n",
    "        if key[0] not in encodings:\n",
    "            encodings[key[0]] = {}\n",
    "\n",
    "        encodings[key[0]][key[1]] = value.tolist()\n",
    "\n",
    "\n",
    "    with open('{}/{}_{}.json'.format(NLP_RESULTS_DIRECTORY, MODEL, file[:-5]), 'w') as f:\n",
    "        json.dump(encodings, f, indent=4)   \n"
   ]
  },
  {
   "cell_type": "code",
   "execution_count": null,
   "metadata": {},
   "outputs": [],
   "source": [
    "QUERIES_PATH = '00_data/queries'\n",
    "FILENAME = 'query_sentences.json'\n",
    "with open('{}/{}'.format(QUERIES_PATH, FILENAME)) as f:\n",
    "    queries = json.load(f)\n",
    "\n",
    "encodings = {}\n",
    "\n",
    "for key, value in queries.items():\n",
    "    sentences = [text for text in value]\n",
    "    sentences = encode(sentences)\n",
    "\n",
    "    encodings[key] = sentences.tolist()\n",
    "\n",
    "with open('{}/{}_{}.json'.format(NLP_RESULTS_DIRECTORY, MODEL, FILENAME[:-5]), 'w') as f:\n",
    "       json.dump(encodings, f, indent=4)"
   ]
  }
 ],
 "metadata": {
  "kernelspec": {
   "display_name": "sentence-tranformer-based-text-classifier-nWm91RqC",
   "language": "python",
   "name": "python3"
  },
  "language_info": {
   "codemirror_mode": {
    "name": "ipython",
    "version": 3
   },
   "file_extension": ".py",
   "mimetype": "text/x-python",
   "name": "python",
   "nbconvert_exporter": "python",
   "pygments_lexer": "ipython3",
   "version": "3.10.8 (main, Oct 13 2022, 09:48:40) [Clang 14.0.0 (clang-1400.0.29.102)]"
  },
  "orig_nbformat": 4,
  "vscode": {
   "interpreter": {
    "hash": "8e82d51497d044bae6e664cc29960b706a3eb7ed2e9e21e37f7ef33c95f3f140"
   }
  }
 },
 "nbformat": 4,
 "nbformat_minor": 2
}
